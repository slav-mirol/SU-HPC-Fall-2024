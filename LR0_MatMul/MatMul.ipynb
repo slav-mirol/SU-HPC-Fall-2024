{
  "nbformat": 4,
  "nbformat_minor": 0,
  "metadata": {
    "colab": {
      "provenance": [],
      "gpuType": "T4"
    },
    "kernelspec": {
      "name": "python3",
      "display_name": "Python 3"
    },
    "language_info": {
      "name": "python"
    },
    "accelerator": "GPU"
  },
  "cells": [
    {
      "cell_type": "code",
      "source": [
        "!nvidia-smi"
      ],
      "metadata": {
        "colab": {
          "base_uri": "https://localhost:8080/"
        },
        "id": "f0o4ZaeaN0GR",
        "outputId": "a6c33193-fd8e-454e-8168-7bc538585569"
      },
      "execution_count": 1,
      "outputs": [
        {
          "output_type": "stream",
          "name": "stdout",
          "text": [
            "Wed Sep 25 16:57:16 2024       \n",
            "+---------------------------------------------------------------------------------------+\n",
            "| NVIDIA-SMI 535.104.05             Driver Version: 535.104.05   CUDA Version: 12.2     |\n",
            "|-----------------------------------------+----------------------+----------------------+\n",
            "| GPU  Name                 Persistence-M | Bus-Id        Disp.A | Volatile Uncorr. ECC |\n",
            "| Fan  Temp   Perf          Pwr:Usage/Cap |         Memory-Usage | GPU-Util  Compute M. |\n",
            "|                                         |                      |               MIG M. |\n",
            "|=========================================+======================+======================|\n",
            "|   0  Tesla T4                       Off | 00000000:00:04.0 Off |                    0 |\n",
            "| N/A   60C    P8              12W /  70W |      0MiB / 15360MiB |      0%      Default |\n",
            "|                                         |                      |                  N/A |\n",
            "+-----------------------------------------+----------------------+----------------------+\n",
            "                                                                                         \n",
            "+---------------------------------------------------------------------------------------+\n",
            "| Processes:                                                                            |\n",
            "|  GPU   GI   CI        PID   Type   Process name                            GPU Memory |\n",
            "|        ID   ID                                                             Usage      |\n",
            "|=======================================================================================|\n",
            "|  No running processes found                                                           |\n",
            "+---------------------------------------------------------------------------------------+\n"
          ]
        }
      ]
    },
    {
      "cell_type": "code",
      "source": [
        "!nvcc --version"
      ],
      "metadata": {
        "colab": {
          "base_uri": "https://localhost:8080/"
        },
        "id": "qTGMP1o-N453",
        "outputId": "be59cf28-344b-401f-b1cb-df07b3e19c41"
      },
      "execution_count": 2,
      "outputs": [
        {
          "output_type": "stream",
          "name": "stdout",
          "text": [
            "nvcc: NVIDIA (R) Cuda compiler driver\n",
            "Copyright (c) 2005-2023 NVIDIA Corporation\n",
            "Built on Tue_Aug_15_22:02:13_PDT_2023\n",
            "Cuda compilation tools, release 12.2, V12.2.140\n",
            "Build cuda_12.2.r12.2/compiler.33191640_0\n"
          ]
        }
      ]
    },
    {
      "cell_type": "code",
      "execution_count": 3,
      "metadata": {
        "colab": {
          "base_uri": "https://localhost:8080/"
        },
        "id": "e__auDkNKWEG",
        "outputId": "28a6b44d-2a35-40cc-f106-36cf46e4b357"
      },
      "outputs": [
        {
          "output_type": "stream",
          "name": "stdout",
          "text": [
            "Requirement already satisfied: cupy-cuda12x in /usr/local/lib/python3.10/dist-packages (12.2.0)\n",
            "Requirement already satisfied: numpy<1.27,>=1.20 in /usr/local/lib/python3.10/dist-packages (from cupy-cuda12x) (1.26.4)\n",
            "Requirement already satisfied: fastrlock>=0.5 in /usr/local/lib/python3.10/dist-packages (from cupy-cuda12x) (0.8.2)\n"
          ]
        }
      ],
      "source": [
        "%pip install cupy-cuda12x"
      ]
    },
    {
      "cell_type": "code",
      "source": [
        "import numpy as np\n",
        "import cupy as cp\n",
        "import time\n",
        "\n",
        "def matrix_multiply_cpu(A, B):\n",
        "    '''\n",
        "    Функция для выполнения умножения матриц на CPU\n",
        "    :param: matrixA - первая матрица\n",
        "    :param: matrixB - вторая матрица\n",
        "    :return: [\n",
        "      answer - результат умножения,\n",
        "      время выполнения операции\n",
        "    ]\n",
        "    '''\n",
        "    # Проверка корректности перемножения\n",
        "    if A.shape[1] != B.shape[0]:\n",
        "        raise ValueError(\"Неправильные размеры матриц для перемножения\")\n",
        "\n",
        "    answer = np.zeros((A.shape[0], B.shape[1]))\n",
        "\n",
        "    start_time = time.time()\n",
        "    for i in range(A.shape[0]):\n",
        "        for j in range(B.shape[1]):\n",
        "            for k in range(A.shape[1]):\n",
        "                answer[i, j] += A[i, k] * B[k, j]\n",
        "    end_time = time.time()\n",
        "\n",
        "    return answer, end_time - start_time\n",
        "\n",
        "def matrix_multiply_gpu(A, B):\n",
        "    '''\n",
        "    Функция для выполнения умножения матриц на GPU\n",
        "    :param: A - первая матрица\n",
        "    :param: B - вторая матрица\n",
        "    :return: [\n",
        "      answer - результат умножения,\n",
        "      время выполнения операции\n",
        "    ]\n",
        "    '''\n",
        "    # Проверка корректности перемножения\n",
        "    if A.shape[1] != B.shape[0]:\n",
        "        raise ValueError(\"Неправильные размеры матриц для перемножения\")\n",
        "\n",
        "    # Перенос матриц на GPU\n",
        "    A_in_gpu = cp.asarray(matrix_a)\n",
        "    B_in_gpu = cp.asarray(matrix_b)\n",
        "\n",
        "    start_time = time.time()\n",
        "    answer_in_gpu = cp.dot(A_in_gpu, B_in_gpu)\n",
        "\n",
        "    # Возвращаем результат c GPU на CPU\n",
        "    answer = cp.asnumpy(answer_in_gpu)\n",
        "    end_time = time.time()\n",
        "\n",
        "    return answer, end_time - start_time\n",
        "\n",
        "if __name__ == \"__main__\":\n",
        "    size = (100, 100)\n",
        "    low = 1\n",
        "    high = 10\n",
        "    matrix_a = np.random.randint(low, high, size)\n",
        "    matrix_b = np.random.randint(low, high, size)\n",
        "\n",
        "\n",
        "    answer_function = np.dot(matrix_a, matrix_b)\n",
        "\n",
        "    answer_gpu, time_gpu = matrix_multiply_gpu(matrix_a, matrix_b)\n",
        "    print(f\"Результат на GPU:\\n{answer_gpu}\")\n",
        "    print(f\"Соответствие результата с np.dot(): {np.unique(answer_gpu == answer_function)}\")\n",
        "    print(f\"Время на GPU: {time_gpu} секунд\")\n",
        "\n",
        "    answer_cpu, time_cpu = matrix_multiply_cpu(matrix_a, matrix_b)\n",
        "\n",
        "    print(f\"Результат на CPU:\\n{answer_cpu}\")\n",
        "    print(f\"Соответствие результата с np.dot(): {np.unique(answer_cpu == answer_function)}\")\n",
        "    print(f\"Время на CPU: {time_cpu} секунд\")\n",
        "\n"
      ],
      "metadata": {
        "colab": {
          "base_uri": "https://localhost:8080/"
        },
        "id": "hLiOP1OLKrKr",
        "outputId": "9c70f3a1-bec3-4543-9181-48f787e3aa57"
      },
      "execution_count": 12,
      "outputs": [
        {
          "output_type": "stream",
          "name": "stdout",
          "text": [
            "Результат на GPU:\n",
            "[[2610 2706 2320 ... 2644 2616 2564]\n",
            " [2433 2336 2122 ... 2308 2395 2407]\n",
            " [2143 2226 1837 ... 2337 2194 2176]\n",
            " ...\n",
            " [2279 2393 2167 ... 2502 2441 2386]\n",
            " [2695 2736 2275 ... 2628 2595 2644]\n",
            " [2467 2565 2313 ... 2596 2434 2439]]\n",
            "Соответствие результата с np.dot(): [ True]\n",
            "Время на GPU: 0.0004215240478515625 секунд\n",
            "Результат на CPU:\n",
            "[[2610. 2706. 2320. ... 2644. 2616. 2564.]\n",
            " [2433. 2336. 2122. ... 2308. 2395. 2407.]\n",
            " [2143. 2226. 1837. ... 2337. 2194. 2176.]\n",
            " ...\n",
            " [2279. 2393. 2167. ... 2502. 2441. 2386.]\n",
            " [2695. 2736. 2275. ... 2628. 2595. 2644.]\n",
            " [2467. 2565. 2313. ... 2596. 2434. 2439.]]\n",
            "Соответствие результата с np.dot(): [ True]\n",
            "Время на CPU: 0.6759786605834961 секунд\n"
          ]
        }
      ]
    },
    {
      "cell_type": "markdown",
      "source": [
        "Поскольку время на выполнение операций умножения для двух последних размеров не представляется измеримым, попробую его предположить используя тренд данных, которые были получены ранее.\n",
        "\n",
        "Была проанализирована зависимость времени от размера и интерполирована на нужные размеры."
      ],
      "metadata": {
        "id": "RZohNvVeMPIm"
      }
    },
    {
      "cell_type": "markdown",
      "source": [
        "Ниже реализована простая модель зависимости: время пропорционально N**3.\n",
        "\n",
        "Понимаю, что результаты очень далеки будут от реальных, но в этом есть небольшая логика, и это лучше, чем ничего :)"
      ],
      "metadata": {
        "id": "A7eJTiC6Mm1S"
      }
    },
    {
      "cell_type": "code",
      "source": [
        "import numpy as np\n",
        "import matplotlib.pyplot as plt\n",
        "from scipy.optimize import curve_fit\n",
        "\n",
        "# Данные\n",
        "sizes = np.array([100, 480, 860, 1240])  # Размер матрицы\n",
        "times_cpu = np.array([0.655572, 78.525480, 452.908478, 1363.350222])  # Время на CPU\n",
        "\n",
        "# Модель зависимости: время пропорционально N**3\n",
        "def time_model(N, a):\n",
        "    return a * N**3\n",
        "\n",
        "# Подгонка модели под данные\n",
        "popt, _ = curve_fit(time_model, sizes, times_cpu)\n",
        "\n",
        "# Прогноз времени для размеров 1620 и 2000\n",
        "sizes_predict = np.array([1620, 2000])\n",
        "times_predict = time_model(sizes_predict, *popt)\n",
        "\n",
        "# Визуализация\n",
        "plt.scatter(sizes, times_cpu, label=\"Замеры\", color='blue')\n",
        "plt.plot(np.concatenate([sizes, sizes_predict]),\n",
        "         time_model(np.concatenate([sizes, sizes_predict]), *popt), label=\"Прогноз\", color='red')\n",
        "plt.scatter(sizes_predict, times_predict, label=\"Прогнозированные значения\", color='green')\n",
        "plt.xlabel(\"Размер матрицы (N)\")\n",
        "plt.ylabel(\"Время на CPU (сек)\")\n",
        "plt.legend()\n",
        "plt.title(\"Прогноз времени умножения матриц на CPU\")\n",
        "plt.show()\n",
        "\n",
        "print(f\"Примерное время для {sizes_predict[0]}: {times_predict[0]}\")\n",
        "print(f\"Примерное время для {sizes_predict[1]}: {times_predict[1]}\")"
      ],
      "metadata": {
        "colab": {
          "base_uri": "https://localhost:8080/",
          "height": 507
        },
        "id": "WBpzO03aMmbX",
        "outputId": "919417b0-7734-452b-cc7e-2477bfd8ef86"
      },
      "execution_count": 9,
      "outputs": [
        {
          "output_type": "display_data",
          "data": {
            "text/plain": [
              "<Figure size 640x480 with 1 Axes>"
            ],
            "image/png": "[encoded data removed]"
          },
          "metadata": {}
        },
        {
          "output_type": "stream",
          "name": "stdout",
          "text": [
            "Примерное время для 1620: 3038.7580413804426\n",
            "Примерное время для 2000: 5717.959362150158\n"
          ]
        }
      ]
    }
  ]
}