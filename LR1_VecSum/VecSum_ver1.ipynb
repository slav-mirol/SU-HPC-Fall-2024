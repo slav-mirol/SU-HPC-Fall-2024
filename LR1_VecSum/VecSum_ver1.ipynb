{
  "nbformat": 4,
  "nbformat_minor": 0,
  "metadata": {
    "colab": {
      "provenance": [],
      "gpuType": "T4"
    },
    "kernelspec": {
      "name": "python3",
      "display_name": "Python 3"
    },
    "language_info": {
      "name": "python"
    },
    "accelerator": "GPU"
  },
  "cells": [
    {
      "cell_type": "code",
      "source": [
        "!nvidia-smi"
      ],
      "metadata": {
        "colab": {
          "base_uri": "https://localhost:8080/"
        },
        "id": "f0o4ZaeaN0GR",
        "outputId": "ee70b9cf-a12d-4d65-ef0a-cc4a2c712b59"
      },
      "execution_count": 1,
      "outputs": [
        {
          "output_type": "stream",
          "name": "stdout",
          "text": [
            "Thu Oct  3 08:41:26 2024       \n",
            "+---------------------------------------------------------------------------------------+\n",
            "| NVIDIA-SMI 535.104.05             Driver Version: 535.104.05   CUDA Version: 12.2     |\n",
            "|-----------------------------------------+----------------------+----------------------+\n",
            "| GPU  Name                 Persistence-M | Bus-Id        Disp.A | Volatile Uncorr. ECC |\n",
            "| Fan  Temp   Perf          Pwr:Usage/Cap |         Memory-Usage | GPU-Util  Compute M. |\n",
            "|                                         |                      |               MIG M. |\n",
            "|=========================================+======================+======================|\n",
            "|   0  Tesla T4                       Off | 00000000:00:04.0 Off |                    0 |\n",
            "| N/A   37C    P8               9W /  70W |      0MiB / 15360MiB |      0%      Default |\n",
            "|                                         |                      |                  N/A |\n",
            "+-----------------------------------------+----------------------+----------------------+\n",
            "                                                                                         \n",
            "+---------------------------------------------------------------------------------------+\n",
            "| Processes:                                                                            |\n",
            "|  GPU   GI   CI        PID   Type   Process name                            GPU Memory |\n",
            "|        ID   ID                                                             Usage      |\n",
            "|=======================================================================================|\n",
            "|  No running processes found                                                           |\n",
            "+---------------------------------------------------------------------------------------+\n"
          ]
        }
      ]
    },
    {
      "cell_type": "code",
      "source": [
        "!nvcc --version"
      ],
      "metadata": {
        "colab": {
          "base_uri": "https://localhost:8080/"
        },
        "id": "qTGMP1o-N453",
        "outputId": "19b2e9e8-c687-46d3-8642-3bd4cdf02826"
      },
      "execution_count": 2,
      "outputs": [
        {
          "output_type": "stream",
          "name": "stdout",
          "text": [
            "nvcc: NVIDIA (R) Cuda compiler driver\n",
            "Copyright (c) 2005-2023 NVIDIA Corporation\n",
            "Built on Tue_Aug_15_22:02:13_PDT_2023\n",
            "Cuda compilation tools, release 12.2, V12.2.140\n",
            "Build cuda_12.2.r12.2/compiler.33191640_0\n"
          ]
        }
      ]
    },
    {
      "cell_type": "code",
      "source": [
        "%pip install pycuda"
      ],
      "metadata": {
        "colab": {
          "base_uri": "https://localhost:8080/"
        },
        "id": "IPKlW0IBiwI-",
        "outputId": "48c7b87a-cf33-4691-e6f1-83fcf1dbc7f7"
      },
      "execution_count": 4,
      "outputs": [
        {
          "output_type": "stream",
          "name": "stdout",
          "text": [
            "Collecting pycuda\n",
            "  Downloading pycuda-2024.1.2.tar.gz (1.7 MB)\n",
            "\u001b[2K     \u001b[90m━━━━━━━━━━━━━━━━━━━━━━━━━━━━━━━━━━━━━━━━\u001b[0m \u001b[32m1.7/1.7 MB\u001b[0m \u001b[31m26.6 MB/s\u001b[0m eta \u001b[36m0:00:00\u001b[0m\n",
            "\u001b[?25h  Installing build dependencies ... \u001b[?25l\u001b[?25hdone\n",
            "  Getting requirements to build wheel ... \u001b[?25l\u001b[?25hdone\n",
            "  Preparing metadata (pyproject.toml) ... \u001b[?25l\u001b[?25hdone\n",
            "Collecting pytools>=2011.2 (from pycuda)\n",
            "  Downloading pytools-2024.1.14-py3-none-any.whl.metadata (3.0 kB)\n",
            "Requirement already satisfied: platformdirs>=2.2.0 in /usr/local/lib/python3.10/dist-packages (from pycuda) (4.3.6)\n",
            "Collecting mako (from pycuda)\n",
            "  Downloading Mako-1.3.5-py3-none-any.whl.metadata (2.9 kB)\n",
            "Requirement already satisfied: typing-extensions>=4 in /usr/local/lib/python3.10/dist-packages (from pytools>=2011.2->pycuda) (4.12.2)\n",
            "Requirement already satisfied: MarkupSafe>=0.9.2 in /usr/local/lib/python3.10/dist-packages (from mako->pycuda) (2.1.5)\n",
            "Downloading pytools-2024.1.14-py3-none-any.whl (89 kB)\n",
            "\u001b[2K   \u001b[90m━━━━━━━━━━━━━━━━━━━━━━━━━━━━━━━━━━━━━━━━\u001b[0m \u001b[32m89.9/89.9 kB\u001b[0m \u001b[31m8.6 MB/s\u001b[0m eta \u001b[36m0:00:00\u001b[0m\n",
            "\u001b[?25hDownloading Mako-1.3.5-py3-none-any.whl (78 kB)\n",
            "\u001b[2K   \u001b[90m━━━━━━━━━━━━━━━━━━━━━━━━━━━━━━━━━━━━━━━━\u001b[0m \u001b[32m78.6/78.6 kB\u001b[0m \u001b[31m7.3 MB/s\u001b[0m eta \u001b[36m0:00:00\u001b[0m\n",
            "\u001b[?25hBuilding wheels for collected packages: pycuda\n",
            "  Building wheel for pycuda (pyproject.toml) ... \u001b[?25l\u001b[?25hdone\n",
            "  Created wheel for pycuda: filename=pycuda-2024.1.2-cp310-cp310-linux_x86_64.whl size=660544 sha256=0dc3c33e3eee947feca38568022df0151aec5fb04c0da647db683eec3900d9f0\n",
            "  Stored in directory: /root/.cache/pip/wheels/70/63/40/4bf006182f942d3516b71bb2ff3b57ccbdb8b2c0ee81882b6e\n",
            "Successfully built pycuda\n",
            "Installing collected packages: pytools, mako, pycuda\n",
            "Successfully installed mako-1.3.5 pycuda-2024.1.2 pytools-2024.1.14\n"
          ]
        }
      ]
    },
    {
      "cell_type": "code",
      "source": [
        "import numpy as np\n",
        "import pycuda.driver as cuda\n",
        "import pycuda.autoinit\n",
        "from pycuda.compiler import SourceModule\n",
        "import time\n",
        "\n",
        "# CUDA-код для суммы элементов вектора\n",
        "vector_sum_kernel = \"\"\"\n",
        "__global__ void addKernel(int* result, int* a, unsigned int size) {\n",
        "    int index = blockIdx.x * blockDim.x + threadIdx.x;\n",
        "\n",
        "    // Переменная для локальной суммы в блоке\n",
        "    __shared__ int sharedSum[256];  // размер блока (можно изменить)\n",
        "\n",
        "    int localSum = 0;\n",
        "\n",
        "    // Суммируем элементы\n",
        "    if (index < size) {\n",
        "        localSum = a[index];\n",
        "    }\n",
        "\n",
        "    // Записываем локальную сумму в shared память\n",
        "    sharedSum[threadIdx.x] = localSum;\n",
        "    __syncthreads();  // Синхронизация потоков\n",
        "\n",
        "    // Выполнение редукции в shared памяти\n",
        "    for (int stride = blockDim.x / 2; stride > 0; stride >>= 1) {\n",
        "        if (threadIdx.x < stride) {\n",
        "            sharedSum[threadIdx.x] += sharedSum[threadIdx.x + stride];\n",
        "        }\n",
        "        __syncthreads();\n",
        "    }\n",
        "\n",
        "    // Записываем результат блока в глобальную память\n",
        "    if (threadIdx.x == 0) {\n",
        "        atomicAdd(result, sharedSum[0]);  // Используем atomic для безопасного инкремента результата\n",
        "    }\n",
        "}\n",
        "\"\"\"\n",
        "\n",
        "\n",
        "# Функция для сложения элементов вектора на GPU с использованием CUDA\n",
        "def vector_sum_gpu(vector):\n",
        "    '''\n",
        "    # Функция для сложения элементов вектора на GPU\n",
        "    :param: vector - входной вектор\n",
        "    :return: [\n",
        "      answer - результат умножения,\n",
        "    ]\n",
        "    '''\n",
        "\n",
        "    start_time = time.time()\n",
        "\n",
        "    # Выделение памяти на GPU\n",
        "    vector_gpu = cuda.mem_alloc(vector.nbytes)\n",
        "    result_gpu = cuda.mem_alloc(np.int32().nbytes)  # Память под результат\n",
        "    initial_value = np.array([0], dtype=np.int32)\n",
        "\n",
        "    # Инициализация результата\n",
        "    cuda.memcpy_htod(result_gpu, initial_value)\n",
        "\n",
        "    # Копирование данных на GPU\n",
        "    cuda.memcpy_htod(vector_gpu, vector)\n",
        "\n",
        "    # Компиляция и загрузка CUDA-кода\n",
        "    mod = SourceModule(vector_sum_kernel)\n",
        "    vector_sum = mod.get_function(\"addKernel\")\n",
        "\n",
        "    # Определяем размеры блока и сетки для распараллеливания\n",
        "    block_size = 256\n",
        "    grid_size = (len(vector) + block_size - 1) // block_size\n",
        "\n",
        "    # Запуск ядра на GPU\n",
        "    vector_sum(result_gpu, vector_gpu, np.int32(len(vector)), block=(block_size, 1, 1), grid=(grid_size, 1))\n",
        "\n",
        "    # Копирование результата с GPU на CPU\n",
        "    result = np.empty(1, dtype=np.int32)\n",
        "    cuda.memcpy_dtoh(result, result_gpu)\n",
        "\n",
        "    end_time = time.time()\n",
        "\n",
        "    return result[0], end_time - start_time\n",
        "\n",
        "\n",
        "def vector_sum_cpu(vector):\n",
        "    '''\n",
        "    Функция для сложения элементов вектора на CPU\n",
        "    :param: vector - входной вектор\n",
        "    :return: [\n",
        "      answer - результат умножения,\n",
        "    ]\n",
        "    '''\n",
        "    answer = 0\n",
        "    for elem in vector:\n",
        "        answer += elem\n",
        "    return answer\n",
        "\n",
        "\n",
        "if __name__ == \"__main__\":\n",
        "    # Генерация вектора с случайными значениями\n",
        "    vector_size = 500000\n",
        "    vector = np.random.randint(1, 10, size=vector_size, dtype=np.int32)\n",
        "\n",
        "    # Сложение на CPU\n",
        "    start_time_cpu = time.time()\n",
        "    answer_cpu = vector_sum_cpu(vector)\n",
        "    end_time_cpu = time.time()\n",
        "\n",
        "    time_cpu = end_time_cpu - start_time_cpu\n",
        "    print(f\"Сумма на CPU: {answer_cpu}, Время выполнения на CPU: {time_cpu} секунд\")\n",
        "\n",
        "    # Сложение на GPU\n",
        "    answer_gpu, time_gpu = vector_sum_gpu(vector)\n",
        "    print(f\"Сумма на GPU: {answer_gpu}, Время выполнения на GPU: {time_gpu} секунд\")"
      ],
      "metadata": {
        "id": "7MwacGMWXR_v",
        "colab": {
          "base_uri": "https://localhost:8080/"
        },
        "outputId": "d386f5c1-afc7-4361-ea1b-03e7335be171"
      },
      "execution_count": 14,
      "outputs": [
        {
          "output_type": "stream",
          "name": "stdout",
          "text": [
            "Сумма на CPU: 2498779, Время выполнения на CPU: 0.07734036445617676 секунд\n",
            "Сумма на GPU: 2498779, Время выполнения на GPU: 0.0021088123321533203 секунд\n"
          ]
        }
      ]
    }
  ]
}