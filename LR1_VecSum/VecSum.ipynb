{
  "nbformat": 4,
  "nbformat_minor": 0,
  "metadata": {
    "colab": {
      "provenance": [],
      "gpuType": "T4"
    },
    "kernelspec": {
      "name": "python3",
      "display_name": "Python 3"
    },
    "language_info": {
      "name": "python"
    },
    "accelerator": "GPU"
  },
  "cells": [
    {
      "cell_type": "code",
      "source": [
        "!nvidia-smi"
      ],
      "metadata": {
        "colab": {
          "base_uri": "https://localhost:8080/"
        },
        "id": "f0o4ZaeaN0GR",
        "outputId": "cd19612d-bb3c-452d-e090-2a150988f759"
      },
      "execution_count": null,
      "outputs": [
        {
          "output_type": "stream",
          "name": "stdout",
          "text": [
            "Thu Sep 19 17:09:45 2024       \n",
            "+---------------------------------------------------------------------------------------+\n",
            "| NVIDIA-SMI 535.104.05             Driver Version: 535.104.05   CUDA Version: 12.2     |\n",
            "|-----------------------------------------+----------------------+----------------------+\n",
            "| GPU  Name                 Persistence-M | Bus-Id        Disp.A | Volatile Uncorr. ECC |\n",
            "| Fan  Temp   Perf          Pwr:Usage/Cap |         Memory-Usage | GPU-Util  Compute M. |\n",
            "|                                         |                      |               MIG M. |\n",
            "|=========================================+======================+======================|\n",
            "|   0  Tesla T4                       Off | 00000000:00:04.0 Off |                    0 |\n",
            "| N/A   49C    P8              10W /  70W |      0MiB / 15360MiB |      0%      Default |\n",
            "|                                         |                      |                  N/A |\n",
            "+-----------------------------------------+----------------------+----------------------+\n",
            "                                                                                         \n",
            "+---------------------------------------------------------------------------------------+\n",
            "| Processes:                                                                            |\n",
            "|  GPU   GI   CI        PID   Type   Process name                            GPU Memory |\n",
            "|        ID   ID                                                             Usage      |\n",
            "|=======================================================================================|\n",
            "|  No running processes found                                                           |\n",
            "+---------------------------------------------------------------------------------------+\n"
          ]
        }
      ]
    },
    {
      "cell_type": "code",
      "source": [
        "!nvcc --version"
      ],
      "metadata": {
        "colab": {
          "base_uri": "https://localhost:8080/"
        },
        "id": "qTGMP1o-N453",
        "outputId": "8cd74ba0-be7e-4ed9-e1f7-a98e279589b1"
      },
      "execution_count": null,
      "outputs": [
        {
          "output_type": "stream",
          "name": "stdout",
          "text": [
            "nvcc: NVIDIA (R) Cuda compiler driver\n",
            "Copyright (c) 2005-2023 NVIDIA Corporation\n",
            "Built on Tue_Aug_15_22:02:13_PDT_2023\n",
            "Cuda compilation tools, release 12.2, V12.2.140\n",
            "Build cuda_12.2.r12.2/compiler.33191640_0\n"
          ]
        }
      ]
    },
    {
      "cell_type": "code",
      "execution_count": null,
      "metadata": {
        "colab": {
          "base_uri": "https://localhost:8080/"
        },
        "id": "e__auDkNKWEG",
        "outputId": "dcda03af-4809-4e8c-a77f-cf26a368f954"
      },
      "outputs": [
        {
          "output_type": "stream",
          "name": "stdout",
          "text": [
            "Requirement already satisfied: cupy-cuda12x in /usr/local/lib/python3.10/dist-packages (12.2.0)\n",
            "Requirement already satisfied: numpy<1.27,>=1.20 in /usr/local/lib/python3.10/dist-packages (from cupy-cuda12x) (1.26.4)\n",
            "Requirement already satisfied: fastrlock>=0.5 in /usr/local/lib/python3.10/dist-packages (from cupy-cuda12x) (0.8.2)\n"
          ]
        }
      ],
      "source": [
        "%pip install cupy-cuda12x"
      ]
    },
    {
      "cell_type": "code",
      "source": [
        "import numpy as np\n",
        "import cupy as cp\n",
        "import time\n",
        "\n",
        "\n",
        "def vector_sum_cpu(vector):\n",
        "    '''\n",
        "    Функция для сложения элементов вектора на CPU\n",
        "    :param: vector - входной вектор\n",
        "    :return: [\n",
        "      answer - результат умножения,\n",
        "    ]\n",
        "    '''\n",
        "    answer = 0\n",
        "    for elem in vector:\n",
        "        answer += elem\n",
        "    return answer\n",
        "\n",
        "# Функция для сложения элементов вектора на GPU с использованием CUDA\n",
        "def vector_sum_gpu(vector):\n",
        "    '''\n",
        "    # Функция для сложения элементов вектора на GPU\n",
        "    :param: vector - входной вектор\n",
        "    :return: [\n",
        "      answer - результат умножения,\n",
        "    ]\n",
        "    '''\n",
        "    vector_gpu = cp.asarray(vector) # Отправили вектор на GPU\n",
        "    answer_gpu = cp.sum(vector_gpu) # Выполнили операцию сложения\n",
        "    answer_cpu = cp.asnumpy(answer_gpu) # Вернули ответ на CPU\n",
        "    return answer_cpu\n",
        "\n",
        "if __name__ == \"__main__\":\n",
        "    # Генерация вектора с случайными значениями\n",
        "    vector_size = 500000\n",
        "    vector = np.random.rand(vector_size)\n",
        "\n",
        "    # Сложение на CPU\n",
        "    start_time_cpu = time.time()\n",
        "    answer_cpu = vector_sum_cpu(vector)\n",
        "    end_time_cpu = time.time()\n",
        "\n",
        "    time_cpu = end_time_cpu - start_time_cpu\n",
        "    print(f\"Сумма на CPU: {answer_cpu}, Время выполнения на CPU: {time_cpu} секунд\")\n",
        "\n",
        "    # Сложение на GPU\n",
        "    start_time_gpu = time.time()\n",
        "    answer_gpu = vector_sum_gpu(vector)\n",
        "    end_time_gpu = time.time()\n",
        "\n",
        "    time_gpu = end_time_gpu - start_time_gpu\n",
        "    print(f\"Сумма на GPU: {answer_gpu}, Время выполнения на GPU: {time_gpu} секунд\")"
      ],
      "metadata": {
        "id": "7MwacGMWXR_v",
        "colab": {
          "base_uri": "https://localhost:8080/"
        },
        "outputId": "a5772f12-7bc6-42e3-e6b4-b827068d1aa8"
      },
      "execution_count": 5,
      "outputs": [
        {
          "output_type": "stream",
          "name": "stdout",
          "text": [
            "Сумма на CPU: 250043.42085148682, Время выполнения на CPU: 0.10537457466125488 секунд\n",
            "Сумма на GPU: 250043.42085148423, Время выполнения на GPU: 0.002023458480834961 секунд\n"
          ]
        }
      ]
    }
  ]
}